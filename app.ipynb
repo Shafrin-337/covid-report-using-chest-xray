{
 "cells": [
  {
   "cell_type": "code",
   "execution_count": 1,
   "id": "a0ecd89f",
   "metadata": {},
   "outputs": [
    {
     "name": "stdout",
     "output_type": "stream",
     "text": [
      "\n",
      "\n",
      "The given X-Ray image is of type = Normal\n",
      "\n",
      "The chances of image being Normal is : 85.94205975532532 percent\n"
     ]
    },
    {
     "data": {
      "text/plain": [
       "''"
      ]
     },
     "execution_count": 1,
     "metadata": {},
     "output_type": "execute_result"
    }
   ],
   "source": [
    "from keras.preprocessing import image\n",
    "from fpdf import FPDF\n",
    "from PIL import Image\n",
    "from datetime import datetime\n",
    "import numpy as np\n",
    "from tensorflow.keras.models import load_model\n",
    "\n",
    "def get_img_array(img_path):\n",
    "    \n",
    "  path = img_path\n",
    "  img = image.load_img(path, target_size=(224,224,3))\n",
    "  img = image.img_to_array(img)/255\n",
    "  img = np.expand_dims(img , axis= 0 )\n",
    "  \n",
    "  return img\n",
    "\n",
    "\n",
    "pdf = FPDF()\n",
    "pdf.add_page()\n",
    "\n",
    "pdf.set_font(\"Helvetica\", 'BU',size = 12)\n",
    "pdf.cell(200, 10, txt = \"COVID detection using X-ray report\",ln = 1, align = 'C')\n",
    "\n",
    "with open ('report.txt','r') as f:\n",
    "    lines=[line.rstrip() for line in f]\n",
    "\n",
    "#FName = lines[0]\n",
    "#LName = lines[1]\n",
    "#ID    = lines[2]\n",
    "#Age   = lines[3]\n",
    "#path  = lines[4]\n",
    "\n",
    "\n",
    "\n",
    "#FName = input('First Name: ')\n",
    "#LName = input('Last Name ')\n",
    "#ID    = input('ID:  ')\n",
    "#Age   = input('Age: ')\n",
    "#path  = input('X-ray report: ')  \n",
    "\n",
    "FName,LName,ID,Age,path=lines\n",
    "Time  = datetime.date(datetime.now())\n",
    "\n",
    "pdf.image(path,x=65,y=75,w=90,h=90)\n",
    "\n",
    "pdf.set_font(\"Arial\",size = 10)\n",
    "pdf.cell(10, 10, txt = f'Time:  {Time}',ln =2, align = 'L')\n",
    "pdf.cell(10, 10, txt = f'Patient\\'s Name: {FName} {LName}',ln =3, align = 'L')\n",
    "pdf.cell(10, 10, txt = f'Age: {Age}',ln =4, align = 'L')\n",
    "\n",
    "class_type = {0:'Covid',  1 : 'Normal'}\n",
    "\n",
    "myModel= load_model(\"covid_detector.model\")\n",
    "img = get_img_array(path)\n",
    "res = class_type[round(myModel.predict(img)[0][0])]\n",
    "print()\n",
    "print()\n",
    "print(f\"The given X-Ray image is of type = {res}\")\n",
    "print()\n",
    "pdf.set_font(\"Arial\", 'BU',size = 12)\n",
    "pdf.cell(200,10, txt = \"Patient's xray report\",ln = 6, align = 'C')\n",
    "\n",
    "\n",
    "\n",
    "pdf.set_font(\"Arial\",size = 12)\n",
    "pdf.set_text_color(247, 13, 26)\n",
    "pdf.cell(200, 10, txt = f\"Result type: {res}\",ln =1, align = 'C')\n",
    "\n",
    "\n",
    "if res=='Covid':\n",
    "    print(f\"The chances of image being Covid is : {100-myModel.predict(img)[0][0]*100} percent\")\n",
    "    pdf.cell(200, 0, txt = f\"Accuracy : {round(100-myModel.predict(img)[0][0]*100,2)}%\",ln =2, align = 'C')\n",
    "else:\n",
    "    print(f\"The chances of image being Normal is : {myModel.predict(img)[0][0]*100} percent\")\n",
    "    pdf.cell(200, 0, txt = f\"Accuracy: {round(myModel.predict(img)[0][0]*100,2)}%\",ln =2, align = 'C')\n",
    "    \n",
    "\n",
    "pdf.output(f\"{FName}_{LName}_{ID}_report.pdf\")\n",
    "\n",
    "\n",
    "#Dataset/normal/IM-0147-0001.jpeg\n",
    "\n",
    "\n",
    "           \n",
    "\n",
    "\n",
    "\n",
    "\n",
    "         \n",
    "            "
   ]
  },
  {
   "cell_type": "code",
   "execution_count": null,
   "id": "b64f1855",
   "metadata": {},
   "outputs": [],
   "source": []
  }
 ],
 "metadata": {
  "kernelspec": {
   "display_name": "Python 3 (ipykernel)",
   "language": "python",
   "name": "python3"
  },
  "language_info": {
   "codemirror_mode": {
    "name": "ipython",
    "version": 3
   },
   "file_extension": ".py",
   "mimetype": "text/x-python",
   "name": "python",
   "nbconvert_exporter": "python",
   "pygments_lexer": "ipython3",
   "version": "3.9.7"
  }
 },
 "nbformat": 4,
 "nbformat_minor": 5
}
